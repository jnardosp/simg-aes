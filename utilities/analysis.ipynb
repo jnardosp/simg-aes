{
 "cells": [
  {
   "cell_type": "code",
   "execution_count": null,
   "metadata": {},
   "outputs": [],
   "source": [
    "import numpy as np\n",
    "import os\n",
    "from generatorDS import npy_to_zip"
   ]
  },
  {
   "cell_type": "code",
   "execution_count": null,
   "metadata": {},
   "outputs": [],
   "source": [
    "def get_Size(original: np.array, AEcompressed: np.array):\n",
    "    # Crear archivos .npy temporales\n",
    "    original_path = 'original.npy'\n",
    "    AEcompressed_path = 'AEcompressed.npy'\n",
    "\n",
    "    #Crear archivos numpy\n",
    "    np.save(original_path, original)\n",
    "    np.save(AEcompressed_path, AEcompressed)\n",
    "\n",
    "    # Obtener tamaños\n",
    "    original_size = os.path.getsize(original_path)\n",
    "    AEcompressed_size = os.path.getsize(AEcompressed_path)\n",
    "\n",
    "    # Eliminar archivos temporales y el archivo zip\n",
    "    os.remove(original_path)\n",
    "    os.remove(AEcompressed_path)\n",
    "\n",
    "    return original_size, AEcompressed_size"
   ]
  },
  {
   "cell_type": "code",
   "execution_count": null,
   "metadata": {},
   "outputs": [],
   "source": [
    "def get_DataSetZipSize(original):\n",
    "    original_path = 'original.npy'\n",
    "    zip_path = 'compressed_data.zip'\n",
    "\n",
    "    np.save(original_path, original)\n",
    "    npy_to_zip('original.npy','compressed_data.zip', 9)\n",
    "\n",
    "    zip_size = os.path.getsize(zip_path)\n",
    "\n",
    "    os.remove(zip_path)\n",
    "    os.remove(original_path)\n",
    "\n",
    "    return zip_size"
   ]
  }
 ],
 "metadata": {
  "kernelspec": {
   "display_name": "TF",
   "language": "python",
   "name": "python3"
  },
  "language_info": {
   "name": "python",
   "version": "3.10.13"
  }
 },
 "nbformat": 4,
 "nbformat_minor": 2
}
