{
 "cells": [
  {
   "cell_type": "code",
   "execution_count": 19,
   "metadata": {},
   "outputs": [],
   "source": [
    "import numpy as np\n",
    "import matplotlib.pyplot as plt\n",
    "from sklearn.model_selection import train_test_split\n",
    "from keras import losses,  callbacks\n",
    "\n",
    "from utilities.ae import *\n",
    "from utilities.generatorDS import randomDataSetGenerate\n",
    "from utilities.analysis import *"
   ]
  },
  {
   "cell_type": "code",
   "execution_count": null,
   "metadata": {},
   "outputs": [],
   "source": [
    "    #Definicion parametros \n",
    "fileName: str = 'Random'\n",
    "sample_size: int = 10000\n",
    "pol_maxGrade: int = 1024\n",
    "latent_dim: int = 128\n",
    "neuLayers = [pol_maxGrade, 512, 256]"
   ]
  },
  {
   "cell_type": "code",
   "execution_count": null,
   "metadata": {},
   "outputs": [],
   "source": [
    "randomDataSetGenerate(sample_size, pol_maxGrade, fileName)\n",
    "\n",
    "    #Lectura del data \n",
    "x_train = (np.load(fileName+'.npy'))\n",
    "\n",
    "    #Split por train y test\n",
    "x_train, x_test = train_test_split(x_train, test_size=0.2, random_state=42)"
   ]
  },
  {
   "cell_type": "code",
   "execution_count": null,
   "metadata": {},
   "outputs": [],
   "source": [
    "autoencoder = Autoencoder(latent_dim, neuLayers) #Generacion del modelo\n",
    "\n",
    "    #Compilamos\n",
    "autoencoder.compile(optimizer='adam', loss=losses.MeanSquaredError())\n",
    "\n",
    "    #EarlyStop para que no haga Overfitting\n",
    "early_stop = callbacks.EarlyStopping(monitor='val_loss',patience=5)\n",
    "\n",
    "    #Entrenamos\n",
    "history = autoencoder.fit(x_train, x_train,\n",
    "            epochs=35,\n",
    "            shuffle=True,\n",
    "            validation_data=(x_test, x_test),\n",
    "            callbacks=[early_stop])"
   ]
  },
  {
   "cell_type": "code",
   "execution_count": null,
   "metadata": {},
   "outputs": [],
   "source": [
    "    #Resultados Error\n",
    "loss = history.history['loss']\n",
    "val_loss = history.history['val_loss']\n",
    "plt.plot(loss, label='Training Loss')\n",
    "plt.plot(val_loss, label='Validation Loss')\n",
    "plt.xlabel('Epoch')\n",
    "plt.ylabel('Loss')\n",
    "plt.legend()\n",
    "plt.show()"
   ]
  },
  {
   "cell_type": "code",
   "execution_count": null,
   "metadata": {},
   "outputs": [],
   "source": [
    "    #Obtencion tamaños compresiones\n",
    "sample = x_train[1] \n",
    "x_expanded = np.expand_dims(sample, axis=0)\n",
    "original_size, AEcompressed_size = get_Size(sample, autoencoder.getEncoded(x_expanded))\n",
    "print( ' original:' + str(original_size) + ' AE:' + str(AEcompressed_size) )\n",
    "dataSetZip_size = get_DataSetZipSize(x_train)"
   ]
  },
  {
   "cell_type": "code",
   "execution_count": null,
   "metadata": {},
   "outputs": [],
   "source": [
    "    #Resultados Compression    \n",
    "plt.bar(['Zip','Original','AE'],\n",
    "        [dataSetZip_size, original_size*len(x_train), AEcompressed_size*len(x_train)])\n",
    "plt.xlabel('file num')\n",
    "plt.ylabel('Size')\n",
    "plt.show()"
   ]
  }
 ],
 "metadata": {
  "kernelspec": {
   "display_name": "TF",
   "language": "python",
   "name": "python3"
  },
  "language_info": {
   "codemirror_mode": {
    "name": "ipython",
    "version": 3
   },
   "file_extension": ".py",
   "mimetype": "text/x-python",
   "name": "python",
   "nbconvert_exporter": "python",
   "pygments_lexer": "ipython3",
   "version": "3.10.13"
  }
 },
 "nbformat": 4,
 "nbformat_minor": 2
}
