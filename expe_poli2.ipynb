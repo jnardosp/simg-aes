{
 "cells": [
  {
   "cell_type": "code",
   "execution_count": null,
   "metadata": {},
   "outputs": [],
   "source": [
    "import numpy as np\n",
    "import matplotlib.pyplot as plt\n",
    "from sklearn.model_selection import train_test_split\n",
    "from keras import losses,  callbacks\n",
    "\n",
    "from utilities.ae import *\n",
    "from utilities.generatorDS import randomDataSetGenerate\n",
    "from utilities.analysis import *"
   ]
  },
  {
   "cell_type": "code",
   "execution_count": null,
   "metadata": {},
   "outputs": [],
   "source": [
    "\n",
    "def AE(latent_dim):\n",
    "    #Definicion parametros \n",
    "    fileName: str = 'Random'\n",
    "    sample_size: int = 1000\n",
    "    pol_maxGrade: int = 1024\n",
    "    latent_dim: int = latent_dim\n",
    "    #Lo defini asi el num neuronas para facilidad de modificacion respecto a la salida y entrada\n",
    "    interval = (pol_maxGrade-latent_dim)//3\n",
    "    neuLayers = [pol_maxGrade, interval*2+latent_dim, interval+latent_dim]\n",
    "\n",
    "    randomDataSetGenerate(sample_size, pol_maxGrade, fileName)\n",
    "\n",
    "    #Lectura del data \n",
    "    x_train = (np.load(fileName+'.npy'))\n",
    "\n",
    "    #Split por train y test\n",
    "    x_train, x_test = train_test_split(x_train, test_size=0.2, random_state=42)\n",
    "\n",
    "    autoencoder = Autoencoder(latent_dim, neuLayers) #Generacion del modelo\n",
    "\n",
    "    #Compilamos\n",
    "    autoencoder.compile(optimizer='adam', loss=losses.MeanSquaredError())\n",
    "\n",
    "    #EarlyStop para que no haga Overfitting\n",
    "    early_stop = callbacks.EarlyStopping(monitor='val_loss',patience=5)\n",
    "\n",
    "    #Entrenamos\n",
    "    history = autoencoder.fit(x_train, x_train,\n",
    "            epochs=35,\n",
    "            shuffle=True,\n",
    "            validation_data=(x_test, x_test),\n",
    "            callbacks=[early_stop])\n",
    "\n",
    "    #Resultados Error\n",
    "    loss = history.history['loss']\n",
    "\n",
    "    #Obtencion tamaños compresiones\n",
    "    sample = x_train[1] \n",
    "    x_expanded = np.expand_dims(sample, axis=0)\n",
    "    __, AEcompressed_size = get_Size(sample, autoencoder.getEncoded(x_expanded))\n",
    "\n",
    "    return AEcompressed_size, loss[-1]"
   ]
  },
  {
   "cell_type": "code",
   "execution_count": null,
   "metadata": {},
   "outputs": [],
   "source": [
    "inicio = 1024\n",
    "compression = []\n",
    "lost = []\n",
    "parts = 10\n",
    "intervals = [int((inicio/10.0)*n) for n in range(1,parts+1)]\n",
    "for interval in intervals:\n",
    "    size,loss = AE(interval)\n",
    "    compression.append(size)\n",
    "    lost.append(loss)\n",
    "\n",
    "    compression = np.array(compression)\n",
    "lost = np.array(lost)\n",
    "max = np.max(compression)/np.max(lost)\n",
    "compression = compression/max"
   ]
  },
  {
   "cell_type": "code",
   "execution_count": null,
   "metadata": {},
   "outputs": [],
   "source": [
    "plt.plot(compression, label='Compression')\n",
    "plt.plot(lost, label='Loss')\n",
    "plt.xlabel('Bottleneck')\n",
    "plt.ylabel('Parameters')\n",
    "plt.legend()\n",
    "plt.show()"
   ]
  }
 ],
 "metadata": {
  "kernelspec": {
   "display_name": "TF",
   "language": "python",
   "name": "python3"
  },
  "language_info": {
   "name": "python",
   "version": "3.10.13"
  }
 },
 "nbformat": 4,
 "nbformat_minor": 2
}
