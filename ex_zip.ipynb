{
 "cells": [
  {
   "cell_type": "code",
   "execution_count": 1,
   "metadata": {},
   "outputs": [
    {
     "name": "stdout",
     "output_type": "stream",
     "text": [
      "0.0\n"
     ]
    }
   ],
   "source": [
    "import numpy as np\n",
    "import matplotlib.pyplot as plt\n",
    "from keras import losses,  callbacks\n",
    "\n",
    "from utilities.aeArchitectures import *\n",
    "from utilities.analysis import *\n",
    "from utilities.generatorDS import normalize\n",
    "from keras.datasets import fashion_mnist"
   ]
  },
  {
   "cell_type": "code",
   "execution_count": 2,
   "metadata": {},
   "outputs": [],
   "source": [
    "#Obtencion zip data\n",
    "data = np.load('zipDataSet.npz')\n",
    "x_train = data['x_train']\n",
    "x_test= data['x_test']\n",
    "\n",
    "#Obtencion data no lossless compression \n",
    "(x_trainN, _), (x_testN, _) = fashion_mnist.load_data()\n",
    "x_trainN = normalize(x_trainN.reshape(x_trainN.shape[0], -1))\n",
    "x_testN = normalize(x_testN.reshape(x_testN.shape[0], -1))"
   ]
  },
  {
   "cell_type": "code",
   "execution_count": 3,
   "metadata": {},
   "outputs": [],
   "source": [
    "pol_maxGrade: int = 784\n",
    "latent_dim: int = 128\n",
    "neuLayers = [pol_maxGrade, 512, 256]"
   ]
  },
  {
   "cell_type": "code",
   "execution_count": 4,
   "metadata": {},
   "outputs": [
    {
     "name": "stdout",
     "output_type": "stream",
     "text": [
      "525/525 [==============================] - 5s 8ms/step - loss: 0.0903 - val_loss: 0.0786\n"
     ]
    }
   ],
   "source": [
    "#Construccion Autoencoder con compressed zip data-----------------------------\n",
    "autoencoderZip = Autoencoder(latent_dim, neuLayers) #Generacion del modelo\n",
    "\n",
    "#Compilamos\n",
    "autoencoderZip.compile(optimizer='adam', loss=losses.MeanSquaredError())\n",
    "\n",
    "#EarlyStop para que no haga Overfitting\n",
    "early_stop = callbacks.EarlyStopping(monitor='val_loss',patience=10)\n",
    "\n",
    "#Entrenamos\n",
    "history = autoencoderZip.fit(x_train, x_train,\n",
    "            epochs=1,\n",
    "            shuffle=True,\n",
    "            validation_data=(x_test, x_test),\n",
    "            callbacks=[early_stop])"
   ]
  },
  {
   "cell_type": "code",
   "execution_count": 5,
   "metadata": {},
   "outputs": [
    {
     "name": "stdout",
     "output_type": "stream",
     "text": [
      "1875/1875 [==============================] - 21s 11ms/step - loss: 0.0292 - val_loss: 0.0213\n"
     ]
    }
   ],
   "source": [
    "#Construccion auto encoder normal----------------------------------------\n",
    "autoencoderN = Autoencoder(latent_dim, neuLayers) #Generacion del modelo\n",
    "\n",
    "#Compilamos\n",
    "autoencoderN.compile(optimizer='adam', loss=losses.MeanSquaredError())\n",
    "\n",
    "#EarlyStop para que no haga Overfitting\n",
    "early_stopN = callbacks.EarlyStopping(monitor='val_loss',patience=10)\n",
    "\n",
    "#Entrenamos\n",
    "historyN = autoencoderN.fit(x_trainN, x_trainN,\n",
    "            epochs=1,\n",
    "            shuffle=True,\n",
    "            validation_data=(x_testN, x_testN),\n",
    "            callbacks=[early_stopN])"
   ]
  },
  {
   "cell_type": "code",
   "execution_count": 6,
   "metadata": {},
   "outputs": [],
   "source": [
    "#Obtencion tamaños compresiones\n",
    "sample = x_train[1] \n",
    "x_expanded = np.expand_dims(sample, axis=0) #esto es porque un problema con la shape\n",
    "original_size, AEcompressed_size = get_Size(sample, autoencoderZip.getEncoded(x_expanded))\n",
    "\n",
    "#Obtencion tamaños compresiones AE-N\n",
    "sample = x_trainN[1] \n",
    "x_expanded = np.expand_dims(sample, axis=0) #esto es porque un problema con la shape\n",
    "original_sizeN, AEcompressed_sizeN = get_Size(sample, autoencoderN.getEncoded(x_expanded))\n",
    "dataSetZip_sizeN = get_DataSetZipSize(x_trainN)"
   ]
  },
  {
   "cell_type": "code",
   "execution_count": 7,
   "metadata": {},
   "outputs": [
    {
     "ename": "",
     "evalue": "",
     "output_type": "error",
     "traceback": [
      "\u001b[1;31mThe Kernel crashed while executing code in the current cell or a previous cell. \n",
      "\u001b[1;31mPlease review the code in the cell(s) to identify a possible cause of the failure. \n",
      "\u001b[1;31mClick <a href='https://aka.ms/vscodeJupyterKernelCrash'>here</a> for more info. \n",
      "\u001b[1;31mView Jupyter <a href='command:jupyter.viewOutput'>log</a> for further details."
     ]
    }
   ],
   "source": [
    "#Resultados Error\n",
    "loss = history.history['loss']\n",
    "val_loss = history.history['val_loss']\n",
    "lossN = historyN.history['loss']\n",
    "val_lossN = historyN.history['val_loss']\n",
    "plt.plot(loss, label='Training LossZ')\n",
    "plt.plot(val_loss, label='Validation LossZ')\n",
    "plt.plot(lossN, label='Training LossN')\n",
    "plt.plot(val_lossN, label='Validation LossN')\n",
    "plt.xlabel('Epoch')\n",
    "plt.ylabel('Loss')\n",
    "plt.legend()\n",
    "plt.show()"
   ]
  },
  {
   "cell_type": "code",
   "execution_count": 6,
   "metadata": {},
   "outputs": [
    {
     "ename": "NameError",
     "evalue": "name 'original_size' is not defined",
     "output_type": "error",
     "traceback": [
      "\u001b[1;31m---------------------------------------------------------------------------\u001b[0m",
      "\u001b[1;31mNameError\u001b[0m                                 Traceback (most recent call last)",
      "Cell \u001b[1;32mIn[6], line 4\u001b[0m\n\u001b[0;32m      1\u001b[0m \u001b[38;5;66;03m#Resultados Compression    \u001b[39;00m\n\u001b[0;32m      2\u001b[0m \u001b[38;5;66;03m# Datos originales\u001b[39;00m\n\u001b[0;32m      3\u001b[0m labels \u001b[38;5;241m=\u001b[39m [ \u001b[38;5;124m'\u001b[39m\u001b[38;5;124mOriginal\u001b[39m\u001b[38;5;124m'\u001b[39m, \u001b[38;5;124m'\u001b[39m\u001b[38;5;124mAE\u001b[39m\u001b[38;5;124m'\u001b[39m, \u001b[38;5;124m'\u001b[39m\u001b[38;5;124mZipN\u001b[39m\u001b[38;5;124m'\u001b[39m, \u001b[38;5;124m'\u001b[39m\u001b[38;5;124mOriginalN\u001b[39m\u001b[38;5;124m'\u001b[39m, \u001b[38;5;124m'\u001b[39m\u001b[38;5;124mAEN\u001b[39m\u001b[38;5;124m'\u001b[39m]\n\u001b[1;32m----> 4\u001b[0m values \u001b[38;5;241m=\u001b[39m [ \u001b[43moriginal_size\u001b[49m\u001b[38;5;241m*\u001b[39m\u001b[38;5;28mlen\u001b[39m(x_train), AEcompressed_size\u001b[38;5;241m*\u001b[39m\u001b[38;5;28mlen\u001b[39m(x_train),\n\u001b[0;32m      5\u001b[0m         dataSetZip_sizeN, original_sizeN\u001b[38;5;241m*\u001b[39m\u001b[38;5;28mlen\u001b[39m(x_trainN), AEcompressed_sizeN\u001b[38;5;241m*\u001b[39m\u001b[38;5;28mlen\u001b[39m(x_trainN)]\n\u001b[0;32m      7\u001b[0m \u001b[38;5;66;03m# Ordenar los datos\u001b[39;00m\n\u001b[0;32m      8\u001b[0m sorted_indices \u001b[38;5;241m=\u001b[39m \u001b[38;5;28msorted\u001b[39m(\u001b[38;5;28mrange\u001b[39m(\u001b[38;5;28mlen\u001b[39m(values)), key\u001b[38;5;241m=\u001b[39m\u001b[38;5;28;01mlambda\u001b[39;00m k: values[k], reverse\u001b[38;5;241m=\u001b[39m\u001b[38;5;28;01mTrue\u001b[39;00m)\n",
      "\u001b[1;31mNameError\u001b[0m: name 'original_size' is not defined"
     ]
    }
   ],
   "source": [
    "#Resultados Compression    \n",
    "# Datos originales\n",
    "labels = [ 'Original', 'AE', 'ZipN', 'OriginalN', 'AEN']\n",
    "values = [ original_size*len(x_train), AEcompressed_size*len(x_train),\n",
    "        dataSetZip_sizeN, original_sizeN*len(x_trainN), AEcompressed_sizeN*len(x_trainN)]\n",
    "\n",
    "# Ordenar los datos\n",
    "sorted_indices = sorted(range(len(values)), key=lambda k: values[k], reverse=True)\n",
    "sorted_labels = [labels[i] for i in sorted_indices]\n",
    "sorted_values = [values[i] for i in sorted_indices]\n",
    "\n",
    "# Asignar colores\n",
    "colors = ['blue' if label.endswith('N') else 'orange' for label in sorted_labels]\n",
    "\n",
    "# Crear el gráfico de barras\n",
    "plt.bar(sorted_labels, sorted_values, color=colors)\n",
    "plt.xlabel('file num')\n",
    "plt.ylabel('Size')\n",
    "plt.show()"
   ]
  }
 ],
 "metadata": {
  "kernelspec": {
   "display_name": "AI",
   "language": "python",
   "name": "python3"
  },
  "language_info": {
   "codemirror_mode": {
    "name": "ipython",
    "version": 3
   },
   "file_extension": ".py",
   "mimetype": "text/x-python",
   "name": "python",
   "nbconvert_exporter": "python",
   "pygments_lexer": "ipython3",
   "version": "3.10.13"
  }
 },
 "nbformat": 4,
 "nbformat_minor": 2
}
