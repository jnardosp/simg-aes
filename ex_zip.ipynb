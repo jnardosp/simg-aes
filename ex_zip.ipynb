{
 "cells": [
  {
   "cell_type": "code",
   "execution_count": 1,
   "metadata": {},
   "outputs": [
    {
     "name": "stdout",
     "output_type": "stream",
     "text": [
      "0.0\n"
     ]
    }
   ],
   "source": [
    "import numpy as np\n",
    "import matplotlib.pyplot as plt\n",
    "from keras import losses,  callbacks\n",
    "\n",
    "from utilities.aeArchitectures import *\n",
    "from utilities.analysis import *\n",
    "from utilities.generatorDS import normalize\n",
    "from keras.datasets import fashion_mnist"
   ]
  },
  {
   "cell_type": "code",
   "execution_count": 2,
   "metadata": {},
   "outputs": [],
   "source": [
    "#Obtencion zip data\n",
    "data = np.load('zipDataSet.npz')\n",
    "x_train = data['x_train']\n",
    "x_test= data['x_test']\n",
    "\n",
    "#Obtencion data no lossless compression \n",
    "(x_trainN, _), (x_testN, _) = fashion_mnist.load_data()\n",
    "x_trainN = normalize(x_trainN.reshape(x_trainN.shape[0], -1))\n",
    "x_testN = normalize(x_testN.reshape(x_testN.shape[0], -1))"
   ]
  },
  {
   "cell_type": "code",
   "execution_count": 3,
   "metadata": {},
   "outputs": [],
   "source": [
    "pol_maxGrade: int = 784\n",
    "latent_dim: int = 128\n",
    "neuLayers = [pol_maxGrade, 512, 256]"
   ]
  },
  {
   "cell_type": "code",
   "execution_count": 4,
   "metadata": {},
   "outputs": [
    {
     "name": "stdout",
     "output_type": "stream",
     "text": [
      "Epoch 1/35\n",
      "398/398 [==============================] - 2s 4ms/step - loss: 0.0757 - val_loss: 0.0588\n",
      "Epoch 2/35\n",
      "398/398 [==============================] - 1s 3ms/step - loss: 0.0561 - val_loss: 0.0546\n",
      "Epoch 3/35\n",
      "398/398 [==============================] - 2s 4ms/step - loss: 0.0511 - val_loss: 0.0531\n",
      "Epoch 4/35\n",
      "398/398 [==============================] - 1s 4ms/step - loss: 0.0484 - val_loss: 0.0520\n",
      "Epoch 5/35\n",
      "398/398 [==============================] - 1s 3ms/step - loss: 0.0466 - val_loss: 0.0523\n",
      "Epoch 6/35\n",
      "398/398 [==============================] - 1s 3ms/step - loss: 0.0455 - val_loss: 0.0515\n",
      "Epoch 7/35\n",
      "398/398 [==============================] - 1s 3ms/step - loss: 0.0445 - val_loss: 0.0506\n",
      "Epoch 8/35\n",
      "398/398 [==============================] - 1s 3ms/step - loss: 0.0436 - val_loss: 0.0505\n",
      "Epoch 9/35\n",
      "398/398 [==============================] - 1s 3ms/step - loss: 0.0432 - val_loss: 0.0502\n",
      "Epoch 10/35\n",
      "398/398 [==============================] - 1s 3ms/step - loss: 0.0426 - val_loss: 0.0502\n",
      "Epoch 11/35\n",
      "398/398 [==============================] - 1s 3ms/step - loss: 0.0420 - val_loss: 0.0496\n",
      "Epoch 12/35\n",
      "398/398 [==============================] - 1s 3ms/step - loss: 0.0418 - val_loss: 0.0497\n",
      "Epoch 13/35\n",
      "398/398 [==============================] - 1s 3ms/step - loss: 0.0415 - val_loss: 0.0495\n",
      "Epoch 14/35\n",
      "398/398 [==============================] - 1s 3ms/step - loss: 0.0412 - val_loss: 0.0494\n",
      "Epoch 15/35\n",
      "398/398 [==============================] - 1s 3ms/step - loss: 0.0408 - val_loss: 0.0496\n",
      "Epoch 16/35\n",
      "398/398 [==============================] - 1s 3ms/step - loss: 0.0406 - val_loss: 0.0493\n",
      "Epoch 17/35\n",
      "398/398 [==============================] - 1s 3ms/step - loss: 0.0404 - val_loss: 0.0495\n",
      "Epoch 18/35\n",
      "398/398 [==============================] - 1s 3ms/step - loss: 0.0401 - val_loss: 0.0491\n",
      "Epoch 19/35\n",
      "398/398 [==============================] - 1s 3ms/step - loss: 0.0400 - val_loss: 0.0493\n",
      "Epoch 20/35\n",
      "398/398 [==============================] - 1s 3ms/step - loss: 0.0398 - val_loss: 0.0491\n",
      "Epoch 21/35\n",
      "398/398 [==============================] - 1s 3ms/step - loss: 0.0397 - val_loss: 0.0498\n",
      "Epoch 22/35\n",
      "398/398 [==============================] - 1s 3ms/step - loss: 0.0396 - val_loss: 0.0491\n",
      "Epoch 23/35\n",
      "398/398 [==============================] - 1s 3ms/step - loss: 0.0394 - val_loss: 0.0494\n",
      "Epoch 24/35\n",
      "398/398 [==============================] - 1s 3ms/step - loss: 0.0393 - val_loss: 0.0491\n",
      "Epoch 25/35\n",
      "398/398 [==============================] - 1s 3ms/step - loss: 0.0391 - val_loss: 0.0492\n",
      "Epoch 26/35\n",
      "398/398 [==============================] - 1s 3ms/step - loss: 0.0390 - val_loss: 0.0492\n",
      "Epoch 27/35\n",
      "398/398 [==============================] - 1s 3ms/step - loss: 0.0388 - val_loss: 0.0492\n",
      "Epoch 28/35\n",
      "398/398 [==============================] - 1s 4ms/step - loss: 0.0388 - val_loss: 0.0493\n",
      "Epoch 29/35\n",
      "398/398 [==============================] - 1s 3ms/step - loss: 0.0388 - val_loss: 0.0494\n",
      "Epoch 30/35\n",
      "398/398 [==============================] - 1s 3ms/step - loss: 0.0386 - val_loss: 0.0493\n",
      "Epoch 31/35\n",
      "398/398 [==============================] - 1s 3ms/step - loss: 0.0385 - val_loss: 0.0494\n",
      "Epoch 32/35\n",
      "398/398 [==============================] - 1s 3ms/step - loss: 0.0383 - val_loss: 0.0492\n",
      "Epoch 33/35\n",
      "398/398 [==============================] - 1s 4ms/step - loss: 0.0383 - val_loss: 0.0491\n",
      "Epoch 34/35\n",
      "398/398 [==============================] - 1s 3ms/step - loss: 0.0382 - val_loss: 0.0501\n"
     ]
    }
   ],
   "source": [
    "#Construccion Autoencoder con compressed zip data-----------------------------\n",
    "autoencoderZip = Autoencoder(latent_dim, neuLayers) #Generacion del modelo\n",
    "\n",
    "#Compilamos\n",
    "autoencoderZip.compile(optimizer='adam', loss=losses.MeanSquaredError())\n",
    "\n",
    "#EarlyStop para que no haga Overfitting\n",
    "early_stop = callbacks.EarlyStopping(monitor='val_loss',patience=10)\n",
    "\n",
    "#Entrenamos\n",
    "history = autoencoderZip.fit(x_train, x_train,\n",
    "            epochs=35,\n",
    "            shuffle=True,\n",
    "            validation_data=(x_test, x_test),\n",
    "            callbacks=[early_stop])"
   ]
  },
  {
   "cell_type": "code",
   "execution_count": 5,
   "metadata": {},
   "outputs": [
    {
     "name": "stdout",
     "output_type": "stream",
     "text": [
      "Epoch 1/35\n",
      "1875/1875 [==============================] - 7s 4ms/step - loss: 0.0283 - val_loss: 0.0199\n",
      "Epoch 2/35\n",
      "1875/1875 [==============================] - 6s 3ms/step - loss: 0.0184 - val_loss: 0.0172\n",
      "Epoch 3/35\n",
      "1875/1875 [==============================] - 6s 3ms/step - loss: 0.0163 - val_loss: 0.0163\n",
      "Epoch 4/35\n",
      "1875/1875 [==============================] - 6s 3ms/step - loss: 0.0154 - val_loss: 0.0153\n",
      "Epoch 5/35\n",
      "1875/1875 [==============================] - 7s 3ms/step - loss: 0.0148 - val_loss: 0.0147\n",
      "Epoch 6/35\n",
      "1875/1875 [==============================] - 7s 4ms/step - loss: 0.0143 - val_loss: 0.0143\n",
      "Epoch 7/35\n",
      "1875/1875 [==============================] - 6s 3ms/step - loss: 0.0139 - val_loss: 0.0139\n",
      "Epoch 8/35\n",
      "1875/1875 [==============================] - 6s 3ms/step - loss: 0.0136 - val_loss: 0.0134\n",
      "Epoch 9/35\n",
      "1875/1875 [==============================] - 6s 3ms/step - loss: 0.0132 - val_loss: 0.0134\n",
      "Epoch 10/35\n",
      "1875/1875 [==============================] - 6s 3ms/step - loss: 0.0131 - val_loss: 0.0134\n",
      "Epoch 11/35\n",
      "1875/1875 [==============================] - 6s 3ms/step - loss: 0.0126 - val_loss: 0.0128\n",
      "Epoch 12/35\n",
      "1875/1875 [==============================] - 6s 3ms/step - loss: 0.0125 - val_loss: 0.0129\n",
      "Epoch 13/35\n",
      "1875/1875 [==============================] - 6s 3ms/step - loss: 0.0124 - val_loss: 0.0127\n",
      "Epoch 14/35\n",
      "1875/1875 [==============================] - 7s 4ms/step - loss: 0.0122 - val_loss: 0.0125\n",
      "Epoch 15/35\n",
      "1875/1875 [==============================] - 6s 3ms/step - loss: 0.0120 - val_loss: 0.0125\n",
      "Epoch 16/35\n",
      "1875/1875 [==============================] - 6s 3ms/step - loss: 0.0119 - val_loss: 0.0121\n",
      "Epoch 17/35\n",
      "1875/1875 [==============================] - 6s 3ms/step - loss: 0.0118 - val_loss: 0.0123\n",
      "Epoch 18/35\n",
      "1875/1875 [==============================] - 7s 3ms/step - loss: 0.0117 - val_loss: 0.0120\n",
      "Epoch 19/35\n",
      "1875/1875 [==============================] - 6s 3ms/step - loss: 0.0116 - val_loss: 0.0120\n",
      "Epoch 20/35\n",
      "1875/1875 [==============================] - 7s 3ms/step - loss: 0.0115 - val_loss: 0.0121\n",
      "Epoch 21/35\n",
      "1875/1875 [==============================] - 7s 3ms/step - loss: 0.0114 - val_loss: 0.0118\n",
      "Epoch 22/35\n",
      "1875/1875 [==============================] - 7s 4ms/step - loss: 0.0114 - val_loss: 0.0117\n",
      "Epoch 23/35\n",
      "1875/1875 [==============================] - 7s 4ms/step - loss: 0.0113 - val_loss: 0.0117\n",
      "Epoch 24/35\n",
      "1875/1875 [==============================] - 7s 4ms/step - loss: 0.0113 - val_loss: 0.0117\n",
      "Epoch 25/35\n",
      "1875/1875 [==============================] - 7s 4ms/step - loss: 0.0112 - val_loss: 0.0117\n",
      "Epoch 26/35\n",
      "1875/1875 [==============================] - 7s 3ms/step - loss: 0.0108 - val_loss: 0.0112\n",
      "Epoch 27/35\n",
      "1875/1875 [==============================] - 7s 3ms/step - loss: 0.0107 - val_loss: 0.0111\n",
      "Epoch 28/35\n",
      "1875/1875 [==============================] - 6s 3ms/step - loss: 0.0107 - val_loss: 0.0110\n",
      "Epoch 29/35\n",
      "1875/1875 [==============================] - 6s 3ms/step - loss: 0.0106 - val_loss: 0.0113\n",
      "Epoch 30/35\n",
      "1875/1875 [==============================] - 7s 4ms/step - loss: 0.0106 - val_loss: 0.0110\n",
      "Epoch 31/35\n",
      "1875/1875 [==============================] - 7s 4ms/step - loss: 0.0105 - val_loss: 0.0108\n",
      "Epoch 32/35\n",
      "1875/1875 [==============================] - 6s 3ms/step - loss: 0.0105 - val_loss: 0.0110\n",
      "Epoch 33/35\n",
      "1875/1875 [==============================] - 7s 4ms/step - loss: 0.0105 - val_loss: 0.0109\n",
      "Epoch 34/35\n",
      "1875/1875 [==============================] - 7s 4ms/step - loss: 0.0104 - val_loss: 0.0109\n",
      "Epoch 35/35\n",
      "1875/1875 [==============================] - 7s 4ms/step - loss: 0.0104 - val_loss: 0.0109\n"
     ]
    }
   ],
   "source": [
    "#Construccion auto encoder normal----------------------------------------\n",
    "autoencoderN = Autoencoder(latent_dim, neuLayers) #Generacion del modelo\n",
    "\n",
    "#Compilamos\n",
    "autoencoderN.compile(optimizer='adam', loss=losses.MeanSquaredError())\n",
    "\n",
    "#EarlyStop para que no haga Overfitting\n",
    "early_stopN = callbacks.EarlyStopping(monitor='val_loss',patience=10)\n",
    "\n",
    "#Entrenamos\n",
    "historyN = autoencoderN.fit(x_trainN, x_trainN,\n",
    "            epochs=35,\n",
    "            shuffle=True,\n",
    "            validation_data=(x_testN, x_testN),\n",
    "            callbacks=[early_stopN])"
   ]
  },
  {
   "cell_type": "code",
   "execution_count": 6,
   "metadata": {},
   "outputs": [
    {
     "name": "stdout",
     "output_type": "stream",
     "text": [
      "[79723520, 6508160, 7674901, 2922292]\n",
      "[376320128, 30720128, 42730005, 12165601]\n"
     ]
    }
   ],
   "source": [
    "#Obtencion tamaños compresiones\n",
    "sizes = get_Size(x_train,autoencoderZip.getEncoded(x_train))\n",
    "#Obtencion tamaños compresiones AE-N\n",
    "sizesN = get_Size(x_trainN,autoencoderN.getEncoded(x_trainN))\n",
    "print(sizes)\n",
    "print(sizesN)"
   ]
  },
  {
   "cell_type": "code",
   "execution_count": 7,
   "metadata": {},
   "outputs": [
    {
     "data": {
      "image/png": "[encoded data removed]",
      "text/plain": [
       "<Figure size 640x480 with 1 Axes>"
      ]
     },
     "metadata": {},
     "output_type": "display_data"
    }
   ],
   "source": [
    "#Resultados Error\n",
    "loss = history.history['loss']\n",
    "val_loss = history.history['val_loss']\n",
    "lossN = historyN.history['loss']\n",
    "val_lossN = historyN.history['val_loss']\n",
    "plt.plot(loss, label='Training LossZ')\n",
    "plt.plot(val_loss, label='Validation LossZ')\n",
    "plt.plot(lossN, label='Training LossN')\n",
    "plt.plot(val_lossN, label='Validation LossN')\n",
    "plt.xlabel('Epoch')\n",
    "plt.ylabel('Loss')\n",
    "plt.legend()\n",
    "plt.show()"
   ]
  },
  {
   "cell_type": "code",
   "execution_count": 8,
   "metadata": {},
   "outputs": [
    {
     "name": "stdout",
     "output_type": "stream",
     "text": [
      "[79723520, 6508160, 7674901, 2922292]\n",
      "[376320128, 30720128, 42730005, 12165601]\n"
     ]
    },
    {
     "data": {
      "image/png": "[encoded data removed]",
      "text/plain": [
       "<Figure size 640x480 with 1 Axes>"
      ]
     },
     "metadata": {},
     "output_type": "display_data"
    }
   ],
   "source": [
    "#Resultados Compression    \n",
    "# Datos originales\n",
    "labels = [ 'Origi', 'AE', 'OrigiZip','AEzip','OrigiN', 'AEN', 'OrigiZipN','AEzipN']\n",
    "values = np.concatenate((np.array(sizes),np.array(sizesN)))\n",
    "print(sizes)\n",
    "print(sizesN)\n",
    "# Ordenar los datos\n",
    "sorted_indices = sorted(range(len(values)), key=lambda k: values[k], reverse=True)\n",
    "sorted_labels = [labels[i] for i in sorted_indices]\n",
    "sorted_values = [values[i] for i in sorted_indices]\n",
    "\n",
    "# Asignar colores\n",
    "colors = ['blue' if label.endswith('N') else 'orange' for label in sorted_labels]\n",
    "\n",
    "# Crear el gráfico de barras\n",
    "plt.bar(sorted_labels, sorted_values, color=colors)\n",
    "plt.xlabel('file num')\n",
    "plt.ylabel('Size')\n",
    "plt.show()"
   ]
  }
 ],
 "metadata": {
  "kernelspec": {
   "display_name": "AI",
   "language": "python",
   "name": "python3"
  },
  "language_info": {
   "codemirror_mode": {
    "name": "ipython",
    "version": 3
   },
   "file_extension": ".py",
   "mimetype": "text/x-python",
   "name": "python",
   "nbconvert_exporter": "python",
   "pygments_lexer": "ipython3",
   "version": "3.10.13"
  }
 },
 "nbformat": 4,
 "nbformat_minor": 2
}
