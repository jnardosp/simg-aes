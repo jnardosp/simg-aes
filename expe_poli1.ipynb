{
 "cells": [
  {
   "cell_type": "code",
   "execution_count": null,
   "metadata": {},
   "outputs": [],
   "source": [
    "import numpy as np\n",
    "import matplotlib.pyplot as plt\n",
    "from sklearn.model_selection import train_test_split\n",
    "from keras import losses,  callbacks\n",
    "\n",
    "from utilities.ae import *\n",
    "from utilities.generatorDS import randomDataSetGenerate\n",
    "from utilities.analysis import *"
   ]
  },
  {
   "cell_type": "code",
   "execution_count": null,
   "metadata": {},
   "outputs": [],
   "source": [
    "#Definicion parametros \n",
    "fileName: str = 'RandomSmall'\n",
    "coefficient_size: int = 10000\n",
    "pol_maxGrade: int = 16\n",
    "latent_dim: int = 4\n",
    "neuLayers = [pol_maxGrade, 8]\n",
    "\n",
    "randomDataSetGenerate(coefficient_size, pol_maxGrade, fileName)\n",
    "\n",
    "#Lectura del data \n",
    "x_train = (np.load(fileName+'.npy'))\n",
    "\n",
    "#Split por train y test\n",
    "x_train, x_test = train_test_split(x_train, test_size=0.2, random_state=42)\n",
    "\n",
    "autoencoderSmall = Autoencoder(latent_dim, neuLayers) #Generacion del modelo\n",
    "\n",
    "#Compilamos\n",
    "autoencoderSmall.compile(optimizer='adam', loss=losses.MeanSquaredError())\n",
    "\n",
    "#EarlyStop para que no haga Overfitting\n",
    "early_stop = callbacks.EarlyStopping(monitor='val_loss',patience=5)\n",
    "\n",
    "#Entrenamos\n",
    "history = autoencoderSmall.fit(x_train, x_train,\n",
    "            epochs=35,\n",
    "            shuffle=True,\n",
    "            validation_data=(x_test, x_test),\n",
    "            callbacks=[early_stop])\n",
    "            \n",
    "#Resultados\n",
    "loss = history.history['loss']\n",
    "val_loss = history.history['val_loss']\n",
    "plt.plot(loss, label='Training Loss')\n",
    "plt.plot(val_loss, label='Validation Loss')\n",
    "plt.xlabel('Epoch')\n",
    "plt.ylabel('Loss')\n",
    "plt.legend()\n",
    "plt.show()\n",
    "\n",
    "#Para extraer nuestro ejemplo usamos las funciones 'getEncoded' y 'getDecoded' de Autoencoder(Model)\n",
    "#Extraemos lo que pasaría con un ejemplo dado\n",
    "example = [0, 1, 2, 3, 4, 5, 6, 7, 8, 9, 10, 11, 12, 13, 14, 15]\n",
    "#Bug en el tipo de datos de entrada ?? Revisar kerastensor shape.\n",
    "encodedExample = autoencoderSmall.getEncoded(example)\n",
    "print(\"This is the polynomial example: {}\".format(example))\n",
    "print(\"This is the encodedExample : {}\".format(encodedExample))\n"
   ]
  }
 ],
 "metadata": {
  "kernelspec": {
   "display_name": "TF",
   "language": "python",
   "name": "python3"
  },
  "language_info": {
   "name": "python",
   "version": "3.10.13"
  }
 },
 "nbformat": 4,
 "nbformat_minor": 2
}
